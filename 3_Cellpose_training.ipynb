{
 "cells": [
  {
   "cell_type": "markdown",
   "id": "f12cce2d-7417-4972-bd32-25d21fdf943e",
   "metadata": {},
   "source": [
    "### Notebook 3: Training Cellpose"
   ]
  },
  {
   "cell_type": "code",
   "execution_count": 1,
   "id": "d815846b",
   "metadata": {
    "_cell_guid": "b1076dfc-b9ad-4769-8c92-a6c4dae69d19",
    "_uuid": "8f2839f25d086af736a60e9eeb907d3b93b6e0e5",
    "execution": {
     "iopub.execute_input": "2021-12-21T20:39:05.743800Z",
     "iopub.status.busy": "2021-12-21T20:39:05.742211Z",
     "iopub.status.idle": "2021-12-21T20:39:05.936925Z",
     "shell.execute_reply": "2021-12-21T20:39:05.936334Z",
     "shell.execute_reply.started": "2021-12-21T20:37:53.825507Z"
    },
    "papermill": {
     "duration": 0.216064,
     "end_time": "2021-12-21T20:39:05.937078",
     "exception": false,
     "start_time": "2021-12-21T20:39:05.721014",
     "status": "completed"
    },
    "tags": []
   },
   "outputs": [],
   "source": [
    "import numpy as np\n",
    "import pandas as pd\n",
    "import os\n",
    "from tqdm.auto import tqdm\n",
    "import tifffile\n",
    "import matplotlib.pyplot as plt\n",
    "import random\n",
    "import glob"
   ]
  },
  {
   "cell_type": "code",
   "execution_count": 4,
   "id": "0c44e0af",
   "metadata": {
    "execution": {
     "iopub.execute_input": "2021-12-21T20:40:42.823977Z",
     "iopub.status.busy": "2021-12-21T20:40:42.823124Z",
     "iopub.status.idle": "2021-12-21T20:40:42.825379Z",
     "shell.execute_reply": "2021-12-21T20:40:42.824905Z"
    },
    "papermill": {
     "duration": 0.051989,
     "end_time": "2021-12-21T20:40:42.825495",
     "exception": false,
     "start_time": "2021-12-21T20:40:42.773506",
     "status": "completed"
    },
    "tags": []
   },
   "outputs": [],
   "source": [
    "model_to_load = 'cyto'\n",
    "number_of_epochs = 10\n",
    "batch_size = 8\n",
    "initial_learning_rate = 0.0002\n",
    "Training_channel = 0\n",
    "Second_training_channel= 0 \n",
    "train_folder = '/cellpose_train/train'\n",
    "test_folder = 'cellpose_train/val'\n",
    "FOLD = 2"
   ]
  },
  {
   "cell_type": "code",
   "execution_count": 5,
   "id": "eef05b0f",
   "metadata": {
    "execution": {
     "iopub.execute_input": "2021-12-21T20:40:42.919408Z",
     "iopub.status.busy": "2021-12-21T20:40:42.918589Z",
     "iopub.status.idle": "2021-12-21T20:41:13.318300Z",
     "shell.execute_reply": "2021-12-21T20:41:13.317781Z",
     "shell.execute_reply.started": "2021-12-12T07:32:41.648758Z"
    },
    "papermill": {
     "duration": 30.449335,
     "end_time": "2021-12-21T20:41:13.318431",
     "exception": false,
     "start_time": "2021-12-21T20:40:42.869096",
     "status": "completed"
    },
    "tags": []
   },
   "outputs": [],
   "source": [
    "!mkdir -p /cellpose_train/\n",
    "\n",
    "root = '../input/sartorius-train-tif/'\n",
    "!cp -r {root}/fold_{FOLD}/* /cellpose_train/"
   ]
  },
  {
   "cell_type": "code",
   "execution_count": 7,
   "id": "140f5fb8",
   "metadata": {
    "execution": {
     "iopub.execute_input": "2021-12-21T20:41:14.871399Z",
     "iopub.status.busy": "2021-12-21T20:41:14.870644Z",
     "iopub.status.idle": "2021-12-21T20:47:11.919351Z",
     "shell.execute_reply": "2021-12-21T20:47:11.916607Z",
     "shell.execute_reply.started": "2021-12-12T07:32:54.767545Z"
    },
    "papermill": {
     "duration": 357.103312,
     "end_time": "2021-12-21T20:47:11.920305",
     "exception": false,
     "start_time": "2021-12-21T20:41:14.816993",
     "status": "completed"
    },
    "tags": []
   },
   "outputs": [
    {
     "name": "stdout",
     "output_type": "stream",
     "text": [
      "creating new log file\n",
      "100%|██████████████████████████████████████| 25.3M/25.3M [00:01<00:00, 21.0MB/s]\n",
      "Not all flows are present. Run flow generation again.\n",
      "Not all flows are present. Run flow generation again.\n",
      "100%|█████████████████████████████████████████| 485/485 [01:08<00:00,  7.06it/s]\n",
      "100%|█████████████████████████████████████████| 121/121 [01:17<00:00,  1.56it/s]\n",
      "\u001b[0m"
     ]
    }
   ],
   "source": [
    "!python -m cellpose --train --use_gpu --fast_mode \\\n",
    "        --dir \"$train_folder\" --test_dir \"$test_folder\" \\\n",
    "        --pretrained_model $model_to_load \\\n",
    "        --chan $Training_channel --chan2 $Second_training_channel \\\n",
    "        --n_epochs $number_of_epochs \\\n",
    "        --learning_rate $initial_learning_rate \\\n",
    "        --batch_size $batch_size \\\n",
    "        --img_filter img \\\n",
    "        --mask_filter masks"
   ]
  }
 ],
 "metadata": {
  "kernelspec": {
   "display_name": "Python 3",
   "language": "python",
   "name": "python3"
  },
  "language_info": {
   "codemirror_mode": {
    "name": "ipython",
    "version": 3
   },
   "file_extension": ".py",
   "mimetype": "text/x-python",
   "name": "python",
   "nbconvert_exporter": "python",
   "pygments_lexer": "ipython3",
   "version": "3.9.7"
  },
  "papermill": {
   "default_parameters": {},
   "duration": 713.363817,
   "end_time": "2021-12-21T20:50:51.028319",
   "environment_variables": {},
   "exception": null,
   "input_path": "__notebook__.ipynb",
   "output_path": "__notebook__.ipynb",
   "parameters": {},
   "start_time": "2021-12-21T20:38:57.664502",
   "version": "2.3.3"
  },
  "widgets": {
   "application/vnd.jupyter.widget-state+json": {
    "state": {
     "0ce8086f0ee04902b1918fbe07f7e4f8": {
      "model_module": "@jupyter-widgets/controls",
      "model_module_version": "1.5.0",
      "model_name": "HTMLModel",
      "state": {
       "_dom_classes": [],
       "_model_module": "@jupyter-widgets/controls",
       "_model_module_version": "1.5.0",
       "_model_name": "HTMLModel",
       "_view_count": null,
       "_view_module": "@jupyter-widgets/controls",
       "_view_module_version": "1.5.0",
       "_view_name": "HTMLView",
       "description": "",
       "description_tooltip": null,
       "layout": "IPY_MODEL_8abad7b9e43e4d43a0a4fc96b107928f",
       "placeholder": "​",
       "style": "IPY_MODEL_0deb23413e68421d8880da31e952b7f1",
       "value": " 121/? [00:04&lt;00:00, 26.88it/s]"
      }
     },
     "0d4a8c95123f4cb7a89b6634768ae63e": {
      "model_module": "@jupyter-widgets/controls",
      "model_module_version": "1.5.0",
      "model_name": "HTMLModel",
      "state": {
       "_dom_classes": [],
       "_model_module": "@jupyter-widgets/controls",
       "_model_module_version": "1.5.0",
       "_model_name": "HTMLModel",
       "_view_count": null,
       "_view_module": "@jupyter-widgets/controls",
       "_view_module_version": "1.5.0",
       "_view_name": "HTMLView",
       "description": "",
       "description_tooltip": null,
       "layout": "IPY_MODEL_84fc429b8a934110b08c7f1c294ff984",
       "placeholder": "​",
       "style": "IPY_MODEL_b269febbb93741f1be8f8e4d298d51f9",
       "value": ""
      }
     },
     "0deb23413e68421d8880da31e952b7f1": {
      "model_module": "@jupyter-widgets/controls",
      "model_module_version": "1.5.0",
      "model_name": "DescriptionStyleModel",
      "state": {
       "_model_module": "@jupyter-widgets/controls",
       "_model_module_version": "1.5.0",
       "_model_name": "DescriptionStyleModel",
       "_view_count": null,
       "_view_module": "@jupyter-widgets/base",
       "_view_module_version": "1.2.0",
       "_view_name": "StyleView",
       "description_width": ""
      }
     },
     "1b4b0699fdad401e91fc607589e61f41": {
      "model_module": "@jupyter-widgets/controls",
      "model_module_version": "1.5.0",
      "model_name": "HBoxModel",
      "state": {
       "_dom_classes": [],
       "_model_module": "@jupyter-widgets/controls",
       "_model_module_version": "1.5.0",
       "_model_name": "HBoxModel",
       "_view_count": null,
       "_view_module": "@jupyter-widgets/controls",
       "_view_module_version": "1.5.0",
       "_view_name": "HBoxView",
       "box_style": "",
       "children": [
        "IPY_MODEL_0d4a8c95123f4cb7a89b6634768ae63e",
        "IPY_MODEL_da74a1c33ac7490cb95ac015c67b47c5",
        "IPY_MODEL_0ce8086f0ee04902b1918fbe07f7e4f8"
       ],
       "layout": "IPY_MODEL_bc8b88bbf3c9467da5b959dfd775fc9f"
      }
     },
     "23b081525c6e43fd9bbd22c6ef07d9ec": {
      "model_module": "@jupyter-widgets/base",
      "model_module_version": "1.2.0",
      "model_name": "LayoutModel",
      "state": {
       "_model_module": "@jupyter-widgets/base",
       "_model_module_version": "1.2.0",
       "_model_name": "LayoutModel",
       "_view_count": null,
       "_view_module": "@jupyter-widgets/base",
       "_view_module_version": "1.2.0",
       "_view_name": "LayoutView",
       "align_content": null,
       "align_items": null,
       "align_self": null,
       "border": null,
       "bottom": null,
       "display": null,
       "flex": null,
       "flex_flow": null,
       "grid_area": null,
       "grid_auto_columns": null,
       "grid_auto_flow": null,
       "grid_auto_rows": null,
       "grid_column": null,
       "grid_gap": null,
       "grid_row": null,
       "grid_template_areas": null,
       "grid_template_columns": null,
       "grid_template_rows": null,
       "height": null,
       "justify_content": null,
       "justify_items": null,
       "left": null,
       "margin": null,
       "max_height": null,
       "max_width": null,
       "min_height": null,
       "min_width": null,
       "object_fit": null,
       "object_position": null,
       "order": null,
       "overflow": null,
       "overflow_x": null,
       "overflow_y": null,
       "padding": null,
       "right": null,
       "top": null,
       "visibility": null,
       "width": "20px"
      }
     },
     "84fc429b8a934110b08c7f1c294ff984": {
      "model_module": "@jupyter-widgets/base",
      "model_module_version": "1.2.0",
      "model_name": "LayoutModel",
      "state": {
       "_model_module": "@jupyter-widgets/base",
       "_model_module_version": "1.2.0",
       "_model_name": "LayoutModel",
       "_view_count": null,
       "_view_module": "@jupyter-widgets/base",
       "_view_module_version": "1.2.0",
       "_view_name": "LayoutView",
       "align_content": null,
       "align_items": null,
       "align_self": null,
       "border": null,
       "bottom": null,
       "display": null,
       "flex": null,
       "flex_flow": null,
       "grid_area": null,
       "grid_auto_columns": null,
       "grid_auto_flow": null,
       "grid_auto_rows": null,
       "grid_column": null,
       "grid_gap": null,
       "grid_row": null,
       "grid_template_areas": null,
       "grid_template_columns": null,
       "grid_template_rows": null,
       "height": null,
       "justify_content": null,
       "justify_items": null,
       "left": null,
       "margin": null,
       "max_height": null,
       "max_width": null,
       "min_height": null,
       "min_width": null,
       "object_fit": null,
       "object_position": null,
       "order": null,
       "overflow": null,
       "overflow_x": null,
       "overflow_y": null,
       "padding": null,
       "right": null,
       "top": null,
       "visibility": null,
       "width": null
      }
     },
     "8abad7b9e43e4d43a0a4fc96b107928f": {
      "model_module": "@jupyter-widgets/base",
      "model_module_version": "1.2.0",
      "model_name": "LayoutModel",
      "state": {
       "_model_module": "@jupyter-widgets/base",
       "_model_module_version": "1.2.0",
       "_model_name": "LayoutModel",
       "_view_count": null,
       "_view_module": "@jupyter-widgets/base",
       "_view_module_version": "1.2.0",
       "_view_name": "LayoutView",
       "align_content": null,
       "align_items": null,
       "align_self": null,
       "border": null,
       "bottom": null,
       "display": null,
       "flex": null,
       "flex_flow": null,
       "grid_area": null,
       "grid_auto_columns": null,
       "grid_auto_flow": null,
       "grid_auto_rows": null,
       "grid_column": null,
       "grid_gap": null,
       "grid_row": null,
       "grid_template_areas": null,
       "grid_template_columns": null,
       "grid_template_rows": null,
       "height": null,
       "justify_content": null,
       "justify_items": null,
       "left": null,
       "margin": null,
       "max_height": null,
       "max_width": null,
       "min_height": null,
       "min_width": null,
       "object_fit": null,
       "object_position": null,
       "order": null,
       "overflow": null,
       "overflow_x": null,
       "overflow_y": null,
       "padding": null,
       "right": null,
       "top": null,
       "visibility": null,
       "width": null
      }
     },
     "aa37b0765dc042df8bf961ac455b4137": {
      "model_module": "@jupyter-widgets/controls",
      "model_module_version": "1.5.0",
      "model_name": "ProgressStyleModel",
      "state": {
       "_model_module": "@jupyter-widgets/controls",
       "_model_module_version": "1.5.0",
       "_model_name": "ProgressStyleModel",
       "_view_count": null,
       "_view_module": "@jupyter-widgets/base",
       "_view_module_version": "1.2.0",
       "_view_name": "StyleView",
       "bar_color": null,
       "description_width": ""
      }
     },
     "b269febbb93741f1be8f8e4d298d51f9": {
      "model_module": "@jupyter-widgets/controls",
      "model_module_version": "1.5.0",
      "model_name": "DescriptionStyleModel",
      "state": {
       "_model_module": "@jupyter-widgets/controls",
       "_model_module_version": "1.5.0",
       "_model_name": "DescriptionStyleModel",
       "_view_count": null,
       "_view_module": "@jupyter-widgets/base",
       "_view_module_version": "1.2.0",
       "_view_name": "StyleView",
       "description_width": ""
      }
     },
     "bc8b88bbf3c9467da5b959dfd775fc9f": {
      "model_module": "@jupyter-widgets/base",
      "model_module_version": "1.2.0",
      "model_name": "LayoutModel",
      "state": {
       "_model_module": "@jupyter-widgets/base",
       "_model_module_version": "1.2.0",
       "_model_name": "LayoutModel",
       "_view_count": null,
       "_view_module": "@jupyter-widgets/base",
       "_view_module_version": "1.2.0",
       "_view_name": "LayoutView",
       "align_content": null,
       "align_items": null,
       "align_self": null,
       "border": null,
       "bottom": null,
       "display": null,
       "flex": null,
       "flex_flow": null,
       "grid_area": null,
       "grid_auto_columns": null,
       "grid_auto_flow": null,
       "grid_auto_rows": null,
       "grid_column": null,
       "grid_gap": null,
       "grid_row": null,
       "grid_template_areas": null,
       "grid_template_columns": null,
       "grid_template_rows": null,
       "height": null,
       "justify_content": null,
       "justify_items": null,
       "left": null,
       "margin": null,
       "max_height": null,
       "max_width": null,
       "min_height": null,
       "min_width": null,
       "object_fit": null,
       "object_position": null,
       "order": null,
       "overflow": null,
       "overflow_x": null,
       "overflow_y": null,
       "padding": null,
       "right": null,
       "top": null,
       "visibility": null,
       "width": null
      }
     },
     "da74a1c33ac7490cb95ac015c67b47c5": {
      "model_module": "@jupyter-widgets/controls",
      "model_module_version": "1.5.0",
      "model_name": "FloatProgressModel",
      "state": {
       "_dom_classes": [],
       "_model_module": "@jupyter-widgets/controls",
       "_model_module_version": "1.5.0",
       "_model_name": "FloatProgressModel",
       "_view_count": null,
       "_view_module": "@jupyter-widgets/controls",
       "_view_module_version": "1.5.0",
       "_view_name": "ProgressView",
       "bar_style": "success",
       "description": "",
       "description_tooltip": null,
       "layout": "IPY_MODEL_23b081525c6e43fd9bbd22c6ef07d9ec",
       "max": 1,
       "min": 0,
       "orientation": "horizontal",
       "style": "IPY_MODEL_aa37b0765dc042df8bf961ac455b4137",
       "value": 1
      }
     }
    },
    "version_major": 2,
    "version_minor": 0
   }
  }
 },
 "nbformat": 4,
 "nbformat_minor": 5
}
